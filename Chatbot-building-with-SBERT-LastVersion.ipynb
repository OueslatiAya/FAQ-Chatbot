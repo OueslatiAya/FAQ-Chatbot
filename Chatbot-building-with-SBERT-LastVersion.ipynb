{
 "cells": [
  {
   "cell_type": "code",
   "execution_count": 14,
   "id": "8b0b4794-237c-42e4-b605-75e6f19cb99d",
   "metadata": {},
   "outputs": [],
   "source": [
    "import numpy as np\n",
    "import pandas as pd\n"
   ]
  },
  {
   "cell_type": "code",
   "execution_count": 15,
   "id": "754dfd71-9750-4166-8605-01ef8d7b1858",
   "metadata": {},
   "outputs": [],
   "source": [
    "df=pd.read_excel(\"QA_cleaned_version54.xlsx\")"
   ]
  },
  {
   "cell_type": "code",
   "execution_count": 17,
   "id": "dbad9fe0-8d49-4ed4-b830-0471022a151c",
   "metadata": {},
   "outputs": [
    {
     "data": {
      "text/html": [
       "<div>\n",
       "<style scoped>\n",
       "    .dataframe tbody tr th:only-of-type {\n",
       "        vertical-align: middle;\n",
       "    }\n",
       "\n",
       "    .dataframe tbody tr th {\n",
       "        vertical-align: top;\n",
       "    }\n",
       "\n",
       "    .dataframe thead th {\n",
       "        text-align: right;\n",
       "    }\n",
       "</style>\n",
       "<table border=\"1\" class=\"dataframe\">\n",
       "  <thead>\n",
       "    <tr style=\"text-align: right;\">\n",
       "      <th></th>\n",
       "      <th>Question</th>\n",
       "      <th>Response</th>\n",
       "    </tr>\n",
       "  </thead>\n",
       "  <tbody>\n",
       "    <tr>\n",
       "      <th>0</th>\n",
       "      <td>access engine</td>\n",
       "      <td>There is a generic user login and home page a...</td>\n",
       "    </tr>\n",
       "    <tr>\n",
       "      <th>1</th>\n",
       "      <td>access engine</td>\n",
       "      <td>There is a generic user login and home page a...</td>\n",
       "    </tr>\n",
       "    <tr>\n",
       "      <th>2</th>\n",
       "      <td>get engine</td>\n",
       "      <td>There is a generic user login and home page a...</td>\n",
       "    </tr>\n",
       "    <tr>\n",
       "      <th>3</th>\n",
       "      <td>access aitek engine</td>\n",
       "      <td>There is a generic user login and home page a...</td>\n",
       "    </tr>\n",
       "    <tr>\n",
       "      <th>4</th>\n",
       "      <td>open engine</td>\n",
       "      <td>There is a generic user login and home page a...</td>\n",
       "    </tr>\n",
       "  </tbody>\n",
       "</table>\n",
       "</div>"
      ],
      "text/plain": [
       "              Question                                           Response\n",
       "0        access engine   There is a generic user login and home page a...\n",
       "1        access engine   There is a generic user login and home page a...\n",
       "2           get engine   There is a generic user login and home page a...\n",
       "3  access aitek engine   There is a generic user login and home page a...\n",
       "4          open engine   There is a generic user login and home page a..."
      ]
     },
     "execution_count": 17,
     "metadata": {},
     "output_type": "execute_result"
    }
   ],
   "source": [
    "df.head()"
   ]
  },
  {
   "cell_type": "code",
   "execution_count": 18,
   "id": "13f76b0d-ea15-409d-8b26-a2ede6af4d14",
   "metadata": {},
   "outputs": [],
   "source": [
    "from sentence_transformers import SentenceTransformer"
   ]
  },
  {
   "cell_type": "code",
   "execution_count": 19,
   "id": "ebd7d8d2-5c6a-41d5-b68c-9df04013a8eb",
   "metadata": {
    "tags": []
   },
   "outputs": [],
   "source": [
    "# Load the pre-trained BERT model\n",
    "model = SentenceTransformer('distilbert-base-nli-stsb-mean-tokens')"
   ]
  },
  {
   "cell_type": "code",
   "execution_count": 20,
   "id": "3c58d429-00e1-4fd6-9cf7-70757b298644",
   "metadata": {},
   "outputs": [],
   "source": [
    "# Generate sentence embeddings for the dataset\n",
    "corpus = df['Question'].tolist()\n",
    "corpus_embeddings = model.encode(corpus, convert_to_tensor=True)"
   ]
  },
  {
   "cell_type": "code",
   "execution_count": 21,
   "id": "71be6ce9-2160-46d3-b365-b238ac049667",
   "metadata": {},
   "outputs": [],
   "source": [
    "from sklearn.metrics.pairwise import cosine_similarity\n",
    "\n",
    "def find_most_similar_question(user_input, corpus, corpus_embeddings):\n",
    "    # Encode the user input\n",
    "    user_input_embedding = model.encode(user_input, convert_to_tensor=True)\n",
    "    \n",
    "    # Reshape user_input_embedding to a 2D tensor\n",
    "    user_input_embedding = user_input_embedding.reshape(1, -1)\n",
    "\n",
    "    # Calculate the cosine similarity between the user input and each sentence in the corpus\n",
    "    similarities = cosine_similarity(user_input_embedding, corpus_embeddings)\n",
    "\n",
    "    # Find the index of the most similar sentence\n",
    "    most_similar_idx = np.argmax(similarities)\n",
    "    \n",
    "    # Get the similarity score of the most similar question\n",
    "    similarity_score = similarities[0][most_similar_idx]\n",
    "    \n",
    "    similarity_threshold=0.5\n",
    "\n",
    "    # Check if the similarity score is below the threshold\n",
    "    if similarity_score < similarity_threshold:\n",
    "        return \"I can't answer your question\"\n",
    "\n",
    "    # Return the most similar question\n",
    "    return corpus[most_similar_idx]\n",
    "\n",
    "   "
   ]
  },
  {
   "cell_type": "code",
   "execution_count": 22,
   "id": "d0693f4e-e676-4149-807b-2916214875c5",
   "metadata": {},
   "outputs": [],
   "source": [
    "def find_answer(most_similar_question):\n",
    "    \n",
    "    if most_similar_question not in df['Question'].tolist():\n",
    "        return \"Sorry, I could not find an answer to your question.\"\n",
    "\n",
    "    # Find the answer corresponding to the most similar question in the dataset\n",
    "    answer = df.loc[df['Question'] == most_similar_question, 'Response'].iloc[0]\n",
    "\n",
    "    # Return the answer\n",
    "    return answer"
   ]
  },
  {
   "cell_type": "code",
   "execution_count": 23,
   "id": "9ce7c26a-5cee-4b15-b7a5-ccf921e042c2",
   "metadata": {},
   "outputs": [],
   "source": [
    "def chatbot():\n",
    "    # Get user input\n",
    "    user_input = input(\"USER: \")\n",
    "\n",
    "    # Find the most similar question in the dataset\n",
    "    most_similar_question = find_most_similar_question(user_input, corpus, corpus_embeddings)\n",
    "\n",
    "    # Find the answer corresponding to the most similar question in the dataset\n",
    "    answer = find_answer(most_similar_question)\n",
    "\n",
    "    # Return the answer\n",
    "    print(\"BOT: \" + answer)"
   ]
  },
  {
   "cell_type": "code",
   "execution_count": 24,
   "id": "8f2d1f6c-386d-4831-a4cd-c84ada788da1",
   "metadata": {},
   "outputs": [
    {
     "name": "stdin",
     "output_type": "stream",
     "text": [
      "USER:  how to access the engine\n"
     ]
    },
    {
     "name": "stdout",
     "output_type": "stream",
     "text": [
      "BOT:  There is a generic user login and home page available. However, it can be specific for each customer and modifiable depending on business needs.\n"
     ]
    }
   ],
   "source": [
    "chatbot()\n"
   ]
  },
  {
   "cell_type": "markdown",
   "id": "763415a2-0f81-46a2-a279-ccda990c4dd1",
   "metadata": {},
   "source": [
    "### Passing the test dataset through the model to get results\n"
   ]
  },
  {
   "cell_type": "code",
   "execution_count": 25,
   "id": "cab1cd6e-9fe1-4a5b-bc04-dc818acb5b8c",
   "metadata": {},
   "outputs": [],
   "source": [
    "df1=pd.read_excel(\"test_Dataset_last_version1.xlsx\")"
   ]
  },
  {
   "cell_type": "code",
   "execution_count": 26,
   "id": "72cdd6ac-efb7-405c-98aa-ebde2aeea61a",
   "metadata": {},
   "outputs": [
    {
     "data": {
      "text/html": [
       "<div>\n",
       "<style scoped>\n",
       "    .dataframe tbody tr th:only-of-type {\n",
       "        vertical-align: middle;\n",
       "    }\n",
       "\n",
       "    .dataframe tbody tr th {\n",
       "        vertical-align: top;\n",
       "    }\n",
       "\n",
       "    .dataframe thead th {\n",
       "        text-align: right;\n",
       "    }\n",
       "</style>\n",
       "<table border=\"1\" class=\"dataframe\">\n",
       "  <thead>\n",
       "    <tr style=\"text-align: right;\">\n",
       "      <th></th>\n",
       "      <th>question</th>\n",
       "      <th>most_similar_question</th>\n",
       "      <th>predicted_answer</th>\n",
       "      <th>true_answer</th>\n",
       "    </tr>\n",
       "  </thead>\n",
       "  <tbody>\n",
       "    <tr>\n",
       "      <th>0</th>\n",
       "      <td>How can I access the engine?</td>\n",
       "      <td>get engine access</td>\n",
       "      <td>There is a generic user login and home page a...</td>\n",
       "      <td>There is a generic user login and home page av...</td>\n",
       "    </tr>\n",
       "    <tr>\n",
       "      <th>1</th>\n",
       "      <td>How do I get to the engine?</td>\n",
       "      <td>get engine</td>\n",
       "      <td>There is a generic user login and home page a...</td>\n",
       "      <td>There is a generic user login and home page av...</td>\n",
       "    </tr>\n",
       "    <tr>\n",
       "      <th>2</th>\n",
       "      <td>How do I open the engine?</td>\n",
       "      <td>open engine</td>\n",
       "      <td>There is a generic user login and home page a...</td>\n",
       "      <td>There is a generic user login and home page av...</td>\n",
       "    </tr>\n",
       "    <tr>\n",
       "      <th>3</th>\n",
       "      <td>How do I reach the engine?</td>\n",
       "      <td>get engine access</td>\n",
       "      <td>There is a generic user login and home page a...</td>\n",
       "      <td>There is a generic user login and home page av...</td>\n",
       "    </tr>\n",
       "    <tr>\n",
       "      <th>4</th>\n",
       "      <td>How do I get access to the engine?</td>\n",
       "      <td>get engine access</td>\n",
       "      <td>There is a generic user login and home page a...</td>\n",
       "      <td>There is a generic user login and home page av...</td>\n",
       "    </tr>\n",
       "    <tr>\n",
       "      <th>...</th>\n",
       "      <td>...</td>\n",
       "      <td>...</td>\n",
       "      <td>...</td>\n",
       "      <td>...</td>\n",
       "    </tr>\n",
       "    <tr>\n",
       "      <th>190</th>\n",
       "      <td>Can I manage the missions of the strategy?</td>\n",
       "      <td>want know manage mission strategy</td>\n",
       "      <td>An administrator can create, edit, and deploy...</td>\n",
       "      <td>An administrator can create, edit, and deploy...</td>\n",
       "    </tr>\n",
       "    <tr>\n",
       "      <th>191</th>\n",
       "      <td>Can I manage the missions of the strategy mys...</td>\n",
       "      <td>want know manage mission strategy</td>\n",
       "      <td>An administrator can create, edit, and deploy...</td>\n",
       "      <td>An administrator can create, edit, and deploy...</td>\n",
       "    </tr>\n",
       "    <tr>\n",
       "      <th>192</th>\n",
       "      <td>Can I manage the missions of the strategy by ...</td>\n",
       "      <td>manage mission strategy without help</td>\n",
       "      <td>An administrator can create, edit, and deploy...</td>\n",
       "      <td>An administrator can create, edit, and deploy...</td>\n",
       "    </tr>\n",
       "    <tr>\n",
       "      <th>193</th>\n",
       "      <td>Can I manage the missions of the strategy on ...</td>\n",
       "      <td>manage mission strategy autonomously without help</td>\n",
       "      <td>An administrator can create, edit, and deploy...</td>\n",
       "      <td>An administrator can create, edit, and deploy...</td>\n",
       "    </tr>\n",
       "    <tr>\n",
       "      <th>194</th>\n",
       "      <td>Can I manage the missions of the strategy ind...</td>\n",
       "      <td>way manage mission strategy</td>\n",
       "      <td>An administrator can create, edit, and deploy...</td>\n",
       "      <td>An administrator can create, edit, and deploy...</td>\n",
       "    </tr>\n",
       "  </tbody>\n",
       "</table>\n",
       "<p>195 rows × 4 columns</p>\n",
       "</div>"
      ],
      "text/plain": [
       "                                              question  \\\n",
       "0                         How can I access the engine?   \n",
       "1                          How do I get to the engine?   \n",
       "2                            How do I open the engine?   \n",
       "3                           How do I reach the engine?   \n",
       "4                   How do I get access to the engine?   \n",
       "..                                                 ...   \n",
       "190         Can I manage the missions of the strategy?   \n",
       "191   Can I manage the missions of the strategy mys...   \n",
       "192   Can I manage the missions of the strategy by ...   \n",
       "193   Can I manage the missions of the strategy on ...   \n",
       "194   Can I manage the missions of the strategy ind...   \n",
       "\n",
       "                                 most_similar_question  \\\n",
       "0                                    get engine access   \n",
       "1                                           get engine   \n",
       "2                                          open engine   \n",
       "3                                    get engine access   \n",
       "4                                    get engine access   \n",
       "..                                                 ...   \n",
       "190                  want know manage mission strategy   \n",
       "191                  want know manage mission strategy   \n",
       "192               manage mission strategy without help   \n",
       "193  manage mission strategy autonomously without help   \n",
       "194                        way manage mission strategy   \n",
       "\n",
       "                                      predicted_answer  \\\n",
       "0     There is a generic user login and home page a...   \n",
       "1     There is a generic user login and home page a...   \n",
       "2     There is a generic user login and home page a...   \n",
       "3     There is a generic user login and home page a...   \n",
       "4     There is a generic user login and home page a...   \n",
       "..                                                 ...   \n",
       "190   An administrator can create, edit, and deploy...   \n",
       "191   An administrator can create, edit, and deploy...   \n",
       "192   An administrator can create, edit, and deploy...   \n",
       "193   An administrator can create, edit, and deploy...   \n",
       "194   An administrator can create, edit, and deploy...   \n",
       "\n",
       "                                           true_answer  \n",
       "0    There is a generic user login and home page av...  \n",
       "1    There is a generic user login and home page av...  \n",
       "2    There is a generic user login and home page av...  \n",
       "3    There is a generic user login and home page av...  \n",
       "4    There is a generic user login and home page av...  \n",
       "..                                                 ...  \n",
       "190   An administrator can create, edit, and deploy...  \n",
       "191   An administrator can create, edit, and deploy...  \n",
       "192   An administrator can create, edit, and deploy...  \n",
       "193   An administrator can create, edit, and deploy...  \n",
       "194   An administrator can create, edit, and deploy...  \n",
       "\n",
       "[195 rows x 4 columns]"
      ]
     },
     "execution_count": 26,
     "metadata": {},
     "output_type": "execute_result"
    }
   ],
   "source": [
    "# Define lists to store predicted and true answers\n",
    "predicted_answers = []\n",
    "true_answers = []\n",
    "\n",
    "# Define lists to store question, most similar question, predicted answer, and true answer\n",
    "questions = []\n",
    "most_similar_questions = []\n",
    "predicted_answers = []\n",
    "true_answers = []\n",
    "\n",
    "# Loop through each question in the dataset and test the chatbot\n",
    "for question in df1['Question']:\n",
    "    # Find the most similar question in the dataset\n",
    "    most_similar_question = find_most_similar_question(question, corpus, corpus_embeddings)\n",
    "    \n",
    "    # Find the answer corresponding to the most similar question in the dataset\n",
    "    predicted_answer = find_answer(most_similar_question)\n",
    "    \n",
    "    # Get the true answer from the dataset\n",
    "    true_answer = df1.loc[df1['Question'] == question, 'Response'].iloc[0]\n",
    "    \n",
    "\n",
    "    # Append the predicted and true answers to the respective lists\n",
    "    questions.append(question)\n",
    "    most_similar_questions.append(most_similar_question)\n",
    "    predicted_answers.append(predicted_answer)\n",
    "    true_answers.append(true_answer)\n",
    "\n",
    "# Create a dataframe to store the results\n",
    "results_df = pd.DataFrame({\n",
    "    'question': questions,\n",
    "    'most_similar_question': most_similar_questions,\n",
    "    'predicted_answer': predicted_answers,\n",
    "    'true_answer': true_answers\n",
    "})\n",
    "\n",
    "# Display the dataframe\n",
    "results_df\n",
    "\n"
   ]
  },
  {
   "cell_type": "code",
   "execution_count": 27,
   "id": "a6edce55-dff8-4b8d-999a-8bc1241ca962",
   "metadata": {},
   "outputs": [],
   "source": [
    "results_df.to_excel('test_dataset_results.xlsx', index=False)"
   ]
  },
  {
   "cell_type": "markdown",
   "id": "c2858bb8-479e-4d62-b9d7-664832ec1b74",
   "metadata": {},
   "source": [
    "df.to_excel('QA_cleaned.xlsx', index=False)\n"
   ]
  }
 ],
 "metadata": {
  "kernelspec": {
   "display_name": "Python 3 (ipykernel)",
   "language": "python",
   "name": "python3"
  },
  "language_info": {
   "codemirror_mode": {
    "name": "ipython",
    "version": 3
   },
   "file_extension": ".py",
   "mimetype": "text/x-python",
   "name": "python",
   "nbconvert_exporter": "python",
   "pygments_lexer": "ipython3",
   "version": "3.9.12"
  }
 },
 "nbformat": 4,
 "nbformat_minor": 5
}
