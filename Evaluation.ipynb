{
 "cells": [
  {
   "cell_type": "code",
   "execution_count": 5,
   "id": "dd84dc91-50fb-456c-be51-63a2d4f6419d",
   "metadata": {},
   "outputs": [],
   "source": [
    "import numpy as np\n",
    "import pandas as pd"
   ]
  },
  {
   "cell_type": "code",
   "execution_count": 6,
   "id": "f8468481-312f-40c3-8c19-7a87fd9c2e14",
   "metadata": {},
   "outputs": [
    {
     "name": "stdout",
     "output_type": "stream",
     "text": [
      "Requirement already satisfied: rouge in c:\\users\\aya\\anaconda3\\lib\\site-packages (1.0.1)\n",
      "Requirement already satisfied: six in c:\\users\\aya\\anaconda3\\lib\\site-packages (from rouge) (1.16.0)\n",
      "Note: you may need to restart the kernel to use updated packages.\n"
     ]
    },
    {
     "name": "stderr",
     "output_type": "stream",
     "text": [
      "\n",
      "[notice] A new release of pip is available: 23.0.1 -> 23.1.2\n",
      "[notice] To update, run: python.exe -m pip install --upgrade pip\n"
     ]
    }
   ],
   "source": [
    "pip install rouge"
   ]
  },
  {
   "cell_type": "code",
   "execution_count": 7,
   "id": "d847989d-9d44-4ca2-8619-bc61eefb58bc",
   "metadata": {},
   "outputs": [],
   "source": [
    "from nltk.translate.bleu_score import sentence_bleu\n",
    "from nltk.translate.bleu_score import SmoothingFunction\n",
    "from rouge import Rouge\n",
    "\n",
    "results_df=pd.read_excel(\"test_dataset_results.xlsx\")\n",
    "\n",
    "def calculate_performance_scores(results_df):\n",
    "    jaccard_similarities = []\n",
    "    bleu_scores = []\n",
    "    rouge_scores = []\n",
    "\n",
    "    for i in range(len(results_df)):\n",
    "        predicted_answer = results_df.loc[i, 'predicted_answer']\n",
    "        true_answer = results_df.loc[i, 'true_answer']\n",
    "\n",
    "        # Calculate Jaccard similarity\n",
    "        predicted_set = set(predicted_answer.split())\n",
    "        true_set = set(true_answer.split())\n",
    "        jaccard_similarity = len(predicted_set.intersection(true_set)) / len(predicted_set.union(true_set))\n",
    "        jaccard_similarities.append(jaccard_similarity)\n",
    "\n",
    "        # Calculate BLEU score\n",
    "        reference = [true_answer.split()]\n",
    "        candidate = predicted_answer.split()\n",
    "        smoothie = SmoothingFunction().method4\n",
    "        bleu_score = sentence_bleu(reference, candidate, smoothing_function=smoothie)\n",
    "        bleu_scores.append(bleu_score)\n",
    "\n",
    "        # Calculate ROUGE score\n",
    "        rouge = Rouge()\n",
    "        rouge_score = rouge.get_scores(predicted_answer, true_answer)[0]['rouge-l']['f']\n",
    "        rouge_scores.append(rouge_score)\n",
    "\n",
    "    # Calculate the overall performance scores\n",
    "    overall_performance = {\n",
    "        'Jaccard_similarity': sum(jaccard_similarities) / len(jaccard_similarities),\n",
    "        'BLEU_score': sum(bleu_scores) / len(bleu_scores),\n",
    "        'ROUGE_score': sum(rouge_scores) / len(rouge_scores)\n",
    "    }\n",
    "\n",
    "    # Display the overall performance\n",
    "    for metric, score in overall_performance.items():\n",
    "        print(f'{metric}: {score:.4f}')\n",
    "\n",
    "    # Create a new dataframe to store the performance scores\n",
    "    performance_df = pd.DataFrame({\n",
    "        'Jaccard_similarity': jaccard_similarities,\n",
    "        'BLEU_score': bleu_scores,\n",
    "        'ROUGE_score': rouge_scores\n",
    "    })\n",
    "\n",
    "    # Return the performance dataframe\n",
    "    return performance_df\n"
   ]
  },
  {
   "cell_type": "code",
   "execution_count": 8,
   "id": "041732ba-f120-4ea0-a043-e4fce9ee6fc0",
   "metadata": {},
   "outputs": [
    {
     "name": "stdout",
     "output_type": "stream",
     "text": [
      "Jaccard_similarity: 0.9107\n",
      "BLEU_score: 0.9033\n",
      "ROUGE_score: 0.9225\n"
     ]
    }
   ],
   "source": [
    "performance_df = calculate_performance_scores(results_df)"
   ]
  },
  {
   "cell_type": "code",
   "execution_count": null,
   "id": "ae8c6dac-118c-4e9c-890e-d70f4e48b9c6",
   "metadata": {},
   "outputs": [],
   "source": []
  }
 ],
 "metadata": {
  "kernelspec": {
   "display_name": "Python 3 (ipykernel)",
   "language": "python",
   "name": "python3"
  },
  "language_info": {
   "codemirror_mode": {
    "name": "ipython",
    "version": 3
   },
   "file_extension": ".py",
   "mimetype": "text/x-python",
   "name": "python",
   "nbconvert_exporter": "python",
   "pygments_lexer": "ipython3",
   "version": "3.9.12"
  }
 },
 "nbformat": 4,
 "nbformat_minor": 5
}
